{
 "cells": [
  {
   "cell_type": "code",
   "execution_count": 14,
   "id": "fbbf90e9",
   "metadata": {},
   "outputs": [],
   "source": [
    "from selenium import webdriver as wd\n",
    "import requests\n",
    "\n",
    "from bs4 import BeautifulSoup \n",
    "\n",
    "import pandas as pd\n",
    "from urllib.parse import urlparse\n",
    "import math\n",
    "import csv\n",
    "import time\n",
    "import re\n",
    "\n",
    "from selenium.webdriver.chrome.options import Options\n",
    "from selenium.webdriver.support.ui import WebDriverWait\n",
    "from selenium.webdriver.support import expected_conditions as EC\n",
    "from selenium.webdriver.common.by import By\n",
    "from selenium.webdriver.common.keys import Keys"
   ]
  },
  {
   "cell_type": "code",
   "execution_count": 15,
   "id": "9ad38dfa",
   "metadata": {},
   "outputs": [],
   "source": [
    "URL = [\"https://review.rakuten.co.jp/item/1/208356_10000132/1.1/?l2-id=item_review\"]"
   ]
  },
  {
   "cell_type": "code",
   "execution_count": 16,
   "id": "87f0ffdd",
   "metadata": {},
   "outputs": [],
   "source": [
    "def Rakuten(URL):\n",
    "    r = requests.get(URL)\n",
    "    soup = BeautifulSoup(r.text, 'html.parser')\n",
    "    \n",
    "    # 총 리뷰수\n",
    "    review_count = soup.findAll('span',{'class':'revEvaCount'})[0].get_text()\n",
    "    review_count = int(re.sub('[()件]', ' ', review_count))\n",
    "    print(review_count)\n",
    "    \n",
    "    # 제품명\n",
    "    product_name = soup.findAll('a',{'sid_linkname':'item_01'})[0].get_text().strip()\n",
    "    print(product_name)\n",
    "    \n",
    "    # 리뷰 작성자\n",
    "    for i in soup.findAll('ul',{'class' :'revUserRvwer'}):\n",
    "        member_ID = i.get_text().split('さん')[0].strip()\n",
    "        mask_name = member_ID.replace(member_ID[math.floor(len(member_ID)/2):],\"*****\")\n",
    "        print(mask_name)\n",
    "\n",
    "    # 리뷰\n",
    "    for i in soup.findAll('dd',{'class':'revRvwUserEntryCmt description'}):\n",
    "        print(\"--------------------------------------------------\")\n",
    "        review = i.get_text()\n",
    "        print(review)"
   ]
  },
  {
   "cell_type": "code",
   "execution_count": 17,
   "id": "9310a2bd",
   "metadata": {},
   "outputs": [
    {
     "data": {
      "text/plain": [
       "'https://review.rakuten.co.jp/item/1/208356_10000132/1.1/?l2-id=item_review'"
      ]
     },
     "execution_count": 17,
     "metadata": {},
     "output_type": "execute_result"
    }
   ],
   "source": [
    "URL[0]"
   ]
  },
  {
   "cell_type": "code",
   "execution_count": 18,
   "id": "fbb637e8",
   "metadata": {},
   "outputs": [
    {
     "name": "stdout",
     "output_type": "stream",
     "text": [
      "41\n",
      "【期間限定12000円→5999円＆100円OFFクーポン！さらに選べる10種のおまけ】【先着2200名様に黒胡麻焙煎七味プレゼント】新牛めしの具(プレミアム仕様)30食セット【牛丼の具】時短 レンチン 単身赴任 牛丼 牛めし 松屋冷凍食品 冷凍 おかず セット 冷食 お惣菜 牛丼 肉\n",
      "カワッ*****\n",
      "ぷT*****\n",
      "happy_*****\n",
      "ain*****\n",
      "がびぃ_*****\n",
      "CLEAR *****\n",
      "でく1*****\n",
      "購*****\n",
      "Xicu*****\n",
      "のこ*****\n",
      "凌華*****\n",
      "kenj*****\n",
      "みんみん*****\n",
      "みぃぃず*****\n",
      "購*****\n",
      "--------------------------------------------------\n",
      "2回目の購入です。\n",
      "松屋さんで食べる味と同じで、しかも1色約200円なので気に入っています。\n",
      "冷凍庫に入れて置けば、私がいないときなど子どもたちが温めて食べるので助かっています。\n",
      "--------------------------------------------------\n",
      "お肉も柔らかく、汁だくが嬉しい。とにかく手軽にあの味が食べられる。袋がぺッタンコに冷凍されているのて、保管する事を配慮しているのだと思う。ただ30パックセットだし、凄く冷凍庫スペースが必要です。予めストッカーを用意するか、届いたら直ぐに食べちゃえる人しか購入できないな。今回半額セールで買えたので配達日指定してから、頑張って冷凍庫スペース開けました。\n",
      "--------------------------------------------------\n",
      "定番の味で美味しいです。たくさんですが長く持ちますし買って良かったです。\n",
      "--------------------------------------------------\n",
      "松屋の味、間違いない美味しさ。値段もリーズナブルな価格で購入できました。冷凍室がまあまあ埋まってしまいますが、さっと軽い食事を確保する時に助かります。\n",
      "--------------------------------------------------\n",
      "初めて購入しました。\n",
      "二人暮らしですが、家にいる時間が増え、家事の負担を減らすために買ってみました。\n",
      "30食は多いかな…と思いましたがお得さに負けて…でも結果的には大正解でした！\n",
      "牛丼はもちろん、肉うどん、あとは調理例にもあるように野菜と一緒にサラダにしてもおいしかったです。\n",
      "もともと牛丼はそんなに食べないですが味が濃いわけでもなく、美味しくいただいてます。\n",
      "--------------------------------------------------\n",
      "松屋さんはあまり馴染みがないのですが、安さに釣られて購入しました。\n",
      "大方、量が少なく小盛りごはんが精一杯かと思っていたのですが、割りと肉感がしっかりあって汁だくなので普通盛りなら牛丼としていただけます。\n",
      "味もペタペタな甘さがなくおいしいです。\n",
      "レンジで簡単調理できるので、春休みの活躍に期待しています。\n",
      "--------------------------------------------------\n",
      "以前、購入した事があり今回もお得な時にリピートしました。\n",
      "お店には行く機会がないので冷凍庫にあると便利です。\n",
      "--------------------------------------------------\n",
      "普通に美味しいですね。\n",
      "手軽さも魅力です。\n",
      "また、購入させていただきます。\n",
      "--------------------------------------------------\n",
      "到着後早速食べましたが、ボリュームも有り大満足です。二日に一回のペースで食べる予定です。\n",
      "--------------------------------------------------\n",
      "お手頃価格で購入でき、夕食のメニューに困った時、時間がないときなど子どものご飯に乗せて食べさせています。四歳の息子はお肉大好きでこれなら毎回完食してくれます。\n",
      "--------------------------------------------------\n",
      "一袋の量がわからず、松屋を利用した事もないので悩んだけれど、セールで1食140円計算で かなり安いので購入。30食だけどキレイに平たいのでスムーズにしまえました。袋も空気が抜けるタイプの物なので、レンチンも簡単。つゆもたくさんで味もしっかりしているので、大学球児の息子の 間食ご飯にはピッタリの量。私にとっては しっかりボリュームがあり満腹になり、 大満足！\n",
      "--------------------------------------------------\n",
      "旨かった&#8252;&#65039;手軽で簡単でいいよ&#8252;&#65039;暖めるだけだか簡単でいいよ&#8252;&#65039;\n",
      "--------------------------------------------------\n",
      "あっと言う間にｚ冷凍庫の在庫が減って行きます。\n",
      "美味しいですね。\n",
      "お弁当のおかずにも入れています。\n",
      "リピートします。\n",
      "--------------------------------------------------\n",
      "すごくおいしいし、レンジで調理出来るのもいいですね！土日のお昼に助けてもらってます&#11088;\n",
      "--------------------------------------------------\n",
      "もう何回もリピしてますが、今回が一番お得でしたかね。いつもお安いと助かります。\n"
     ]
    }
   ],
   "source": [
    "Rakuten(URL[0])"
   ]
  },
  {
   "cell_type": "code",
   "execution_count": null,
   "id": "decca947",
   "metadata": {},
   "outputs": [],
   "source": []
  }
 ],
 "metadata": {
  "kernelspec": {
   "display_name": "Python 3",
   "language": "python",
   "name": "python3"
  },
  "language_info": {
   "codemirror_mode": {
    "name": "ipython",
    "version": 3
   },
   "file_extension": ".py",
   "mimetype": "text/x-python",
   "name": "python",
   "nbconvert_exporter": "python",
   "pygments_lexer": "ipython3",
   "version": "3.8.8"
  }
 },
 "nbformat": 4,
 "nbformat_minor": 5
}

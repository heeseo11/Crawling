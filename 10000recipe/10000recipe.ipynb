{
 "cells": [
  {
   "cell_type": "code",
   "execution_count": 1,
   "id": "273b66a2",
   "metadata": {},
   "outputs": [],
   "source": [
    "import requests\n",
    "from bs4 import BeautifulSoup\n",
    "import pandas as pd\n",
    "from urllib.parse import urlparse\n",
    "import math\n",
    "import csv\n",
    "\n",
    "from selenium import webdriver as wd\n",
    "from selenium.webdriver.chrome.options import Options\n",
    "from selenium.webdriver.support.ui import WebDriverWait\n",
    "from selenium.webdriver.support import expected_conditions as EC\n",
    "from selenium.webdriver.common.by import By\n",
    "from selenium.webdriver.common.keys import Keys"
   ]
  },
  {
   "cell_type": "code",
   "execution_count": 4,
   "id": "f48eebe3",
   "metadata": {},
   "outputs": [
    {
     "name": "stdout",
     "output_type": "stream",
     "text": [
      "https://www.10000recipe.com/recipe/list.html?cat1=6&order=reco&page={}\n",
      "https://www.10000recipe.com/recipe/list.html?cat1=1&order=reco&page={}\n",
      "https://www.10000recipe.com/recipe/list.html?cat1=7&order=reco&page={}\n",
      "https://www.10000recipe.com/recipe/list.html?cat1=36&order=reco&page={}\n",
      "https://www.10000recipe.com/recipe/list.html?cat1=41&order=reco&page={}\n",
      "https://www.10000recipe.com/recipe/list.html?cat1=42&order=reco&page={}\n",
      "https://www.10000recipe.com/recipe/list.html?cat1=8&order=reco&page={}\n",
      "https://www.10000recipe.com/recipe/list.html?cat1=10&order=reco&page={}\n",
      "https://www.10000recipe.com/recipe/list.html?cat1=9&order=reco&page={}\n",
      "https://www.10000recipe.com/recipe/list.html?cat1=38&order=reco&page={}\n",
      "https://www.10000recipe.com/recipe/list.html?cat1=67&order=reco&page={}\n"
     ]
    }
   ],
   "source": [
    "조리법_code = [6,1,7,36,41,42,8,10,9,38,67]\n",
    "code_url = []\n",
    "for i in 조리법_code:\n",
    "    url = \"https://www.10000recipe.com/recipe/list.html?cat1={}&order=reco&page={}\".format(i,\"{}\")\n",
    "    code_url.append(url)\n",
    "    print(url)"
   ]
  },
  {
   "cell_type": "code",
   "execution_count": 5,
   "id": "c1e1209b",
   "metadata": {},
   "outputs": [],
   "source": [
    "# 조리법 code별 레시피 페이지 만들기\n",
    "all_url = []\n",
    "def page_url(code, page_count):\n",
    "    url = \"https://www.10000recipe.com/recipe/list.html?cat1={}&order=reco&page={}\".format(code,\"{}\")\n",
    "    code_url.append(url)\n",
    "    print(url)\n",
    "    for i in range(1,page_count):\n",
    "        URL = url.format(i)\n",
    "        all_url.append(URL)"
   ]
  },
  {
   "cell_type": "code",
   "execution_count": 6,
   "id": "8ce2fd79",
   "metadata": {},
   "outputs": [
    {
     "name": "stdout",
     "output_type": "stream",
     "text": [
      "https://www.10000recipe.com/recipe/list.html?cat1=6&order=reco&page={}\n"
     ]
    }
   ],
   "source": [
    "page_url(6,744)"
   ]
  },
  {
   "cell_type": "code",
   "execution_count": 8,
   "id": "3db6a457",
   "metadata": {},
   "outputs": [
    {
     "data": {
      "text/plain": [
       "['https://www.10000recipe.com/recipe/list.html?cat1=6&order=reco&page=1',\n",
       " 'https://www.10000recipe.com/recipe/list.html?cat1=6&order=reco&page=2',\n",
       " 'https://www.10000recipe.com/recipe/list.html?cat1=6&order=reco&page=3',\n",
       " 'https://www.10000recipe.com/recipe/list.html?cat1=6&order=reco&page=4',\n",
       " 'https://www.10000recipe.com/recipe/list.html?cat1=6&order=reco&page=5']"
      ]
     },
     "execution_count": 8,
     "metadata": {},
     "output_type": "execute_result"
    }
   ],
   "source": [
    "all_url[:5]"
   ]
  },
  {
   "cell_type": "code",
   "execution_count": 10,
   "id": "3a88d860",
   "metadata": {},
   "outputs": [],
   "source": [
    "# 모든 레시피의 url 생성\n",
    "all_receipe = []\n",
    "def make_url(URL_list):\n",
    "    for i in URL_list:\n",
    "        r = requests.get(i)\n",
    "        soup = BeautifulSoup(r.text, 'html.parser')\n",
    "\n",
    "        for j in range(0, len(soup.findAll('a',attrs={'class':'common_sp_link'}))):\n",
    "            recipe_url = soup.findAll('a',attrs={'class':'common_sp_link'})[j].attrs['href']\n",
    "            recipe_url = \"https://www.10000recipe.com{}\".format(recipe_url)\n",
    "            all_receipe.append(recipe_url)"
   ]
  },
  {
   "cell_type": "code",
   "execution_count": 11,
   "id": "1dff29d0",
   "metadata": {},
   "outputs": [],
   "source": [
    "make_url(all_url)"
   ]
  },
  {
   "cell_type": "code",
   "execution_count": 12,
   "id": "d2664fec",
   "metadata": {
    "scrolled": true
   },
   "outputs": [
    {
     "data": {
      "text/plain": [
       "29720"
      ]
     },
     "execution_count": 12,
     "metadata": {},
     "output_type": "execute_result"
    }
   ],
   "source": [
    "len(all_receipe)"
   ]
  },
  {
   "cell_type": "code",
   "execution_count": 14,
   "id": "dfbeab77",
   "metadata": {},
   "outputs": [
    {
     "name": "stdout",
     "output_type": "stream",
     "text": [
      "https://www.10000recipe.com/recipe/6957535\n",
      "['[마늘종볶음]단짠단짠 자꾸만 손이가요~', '2021-04-28', '[재료] 건새우 50g 물 1/4컵 마늘종 300g 소금 1/3큰술 [양념재료] 설탕 2큰술 간장 4큰술 식용유 4큰술 참기름 2큰술 물엿 1+1/2큰술 통깨 1큰술', '마늘종 300g을 4cm길이로 썰어주세요', '달궈진 마른팬에 건새우 50g을 넣고 중간불에서 1분간 볶아주세요.마른팬에서 건새우를 볶으면 잡내는 사라지고 단맛은 올라갑니다.', '볶은 새우를 체에 올려 잔 가루를 털어 내주세요.', '팬에 불을 (센불)켜고 물 1/4컵을 넣고 끓여 줍니다.', '물이 끓어 오르면 마늘종 300g과 소금 1/3큰술을 넣고 수분이 없어질때까지 볶아줍니다.마늘종을 물에 볶으면 데치는 효과를 내서 아린맛은 날아가고 색감은 살아 납니다. ', '수분이 없어 졌을 때 볶아 놓은 건새우를 넣어주세요.', '설탕 2큰술을 넣고 살짝 볶아주고 설탕 입자가 있을때 간장4큰술을 넣어 줍니다.', '식용유 4큰술을 건새우쪽으로 넣고 볶아줍니다.', '불을 끄고 참기름 2큰술, 물엿 1큰술반, 통깨 1큰술을 넣고 잘 어우러지게 섞어서 맛있게 드시면 되세요~']\n",
      "------------------------------------------------------------------\n",
      "https://www.10000recipe.com/recipe/6877253\n",
      "['비엔나 만두 강정', '2017-09-28', '[재료] 만두(교자만두/물만두) 10개 비엔나소세지 작은거 1봉 [양념] 물 1T 간장 1T 고추장 2T 케찹 2T 올리고당 1.5T 다진마늘 1t 참기름 약간 깨 약간', '만두는 기름을 두룬 팬에 노릇하게 구워줍니다.', '비엔나 소세지에 원하는 모양대로 칼집을 내고 팬에 볶아줍니다.\\n양파가 있다면 같이 볶아줘도 좋아요:)', '비엔나가 어느정도 구워지면 만두를 같이 넣어줍니다.', '양념장을 넣고 양념이 고루 베이도록 잘 섞어줍니다.', '양념이 어느정도 베이면 위에 통깨를 뿌려 마무리합니다.', '간식이나 술안주, 밑반찬으로 먹기 좋은 비엔나만두강정 완성!']\n",
      "------------------------------------------------------------------\n",
      "https://www.10000recipe.com/recipe/6872474\n",
      "['새우요리 갈릭마요새우~ 요거 완전 맛있지~', '2017-07-10', '[재료] 냉동새우 1줌 [양념] 마요네즈 4큰술 다진마늘 1큰술 설탕 1큰술 [새우 밑간] 후추 약간 소금 약간', '냉동 새우 한줌을 해동 시켜주세요.\\n그냥 실온에 두셔서 해동시키셔도 되고, 전자렌지 해동기능을 사용하셔도 되요.\\n전 좀 느지막히 꺼내놓아서 전자렌지에 해동했어요.전자레인지', '전자렌지에 냉동새우를 잠깐 돌리는 동안 분량의 양념을 섞어서 만들어주세요.\\n마요네즈 4큰술, 다진마늘 1큰술, 설탕 1큰술조금 더 매콤하게 드시고 싶은 분들은 다져서 양념에 추가시키시면되요~', '해동이 끝난 냉동새우는 후추와 소금을 뿌려서 잠깐 재워두었어요.', '20분 정도 지나고 물기를 어느정도 제거해주고\\n기름을 두른 팬에 밑간한 새우를 넣고 앞뒤로 살짝 뒤집어 가며 익혀주세요~', '어느정도 노릇노릇해지면 섞어놓은 양념을 넣고 같이 섞어주시면 되요', '양념이 어느정도 노릇해 지면 불꺼서 마무리~!! 완성된 갈릭마요새우예요~~!!']\n",
      "------------------------------------------------------------------\n",
      "https://www.10000recipe.com/recipe/6878340\n",
      "['단짠단짠의 대패덮밥', '2017-10-22', '[재료] 대패 삼겹살 400g 대파 2뿌리 설탕 2스푼 맛간장(OR진간장) 4스푼', '궁중팬에 대패삼겹살을 넣어줍니다.대패삼겹살 400g', '대파는 큼직하게 썰어서 준비합니다.대파 2뿌리', '대패삼겹살이 골고루 익도록 볶아줍니다.강불', '고기가 적당히 익으면 준비한 대파를 넣고 좀더 볶아줍니다.강불', '대패삼겹살이 노릇해질 정도로 충분히 익혀준 뒤중불', '설탕 2스푼을 넣고 한번 더 볶아줍니다.설탕 2스푼중불', '설탕을 넣고 볶아주면 고기에 윤기가 돌아요.중불설탕을 넣을 때는 불을 중불로 줄여야 타지않게 볶을 수 있어요.', '맛간장 또는 진간장을 4큰술 넣고 한번 더 볶아줍니다.중불입맛에 따라 간장의 양은 조절해야 해요!', '삼겹살에 간장 양념이 골고루 베이도록 볶아주면 완성이에요^^', '오목한 그릇에 따뜻한밥을 담고, 그 위에 볶은 고기를 올려주면 대패덥밥 완성!']\n",
      "------------------------------------------------------------------\n",
      "https://www.10000recipe.com/recipe/6939980\n",
      "['쫄깃 매콤한 백종원 느타리 두루치기', '2020-08-24', '[재료] 느타리버섯 300g 양파 1/2개 애호박 1/4개 고추 1개 대파 1개 [양념 재료] 고추장 1T 고춧가루 1T 간장 3T 설탕 1.5T 다진 마늘 1스푼 참기름 1스푼', '느타리버섯은 손질 후 먹기 좋은 크기로 가닥을 떼어주세요.\\n양파는 채 썰고 애호박은 반달로 썰어주세요.\\n대파와 고추도 썰어 준비해 주었어요.', '고추장 1T, 고춧가루 1T, 간장 3T, 설탕 1.5T, 다진 마늘 1스푼, 참기름 1스푼을 넣고 섞어주세요.', '느타리버섯과 채소들을 한곳에 넣고 양념장이 골고루 묻도록 조물조물 버무려주세요.\\n버무리다 보면 채소에서 물이 나와 잘 버무려진답니다.', '식용유를 살짝 두른 팬에 모든 재료를 넣어주세요.', '양념한 채소들이 잘 익을 때까지 볶아주시면 돼요.\\n여기에 불린 당면을 넣고 볶아주셔도 좋답니다.\\n', '마지막으로 통깨를 뿌려주면 매콤한 느타리 두루치기가 최종 완성이 돼요.']\n",
      "------------------------------------------------------------------\n",
      "https://www.10000recipe.com/recipe/6930961\n",
      "['양배추 참치덮밥 /Cabbage tuna bowl of rice', '2020-04-18', '[재료] 참치캔 100g 양배추 170g 양파 1/2개 대파 1대 식용유 2Ts 쌀밥 180g [양념] 고춧가루 1Ts 고추장 1Ts 올리고당 1Ts 굴소스 1Ts', '참치캔은 기름을 제거한다.', '양배추는 사각으로 잘라 준다.', '양파는 사각으로 잘라 준다.', '대파는 송송 썰어 준다.', '프라이팬에 식용유, 대파를 넣고 향이 날 때까지 볶는다.', '대파의 향이 나면 양배추를 넣고 볶는다.', '양파를 넣고 볶는다.', '고춧가루, 고추장, 참치, 올리고당, 굴 소스를 넣고 볶는다.', '그릇에 밥을 담아 준비한다.', '밥위에 덮밥소스를 올려준다.']\n",
      "------------------------------------------------------------------\n",
      "https://www.10000recipe.com/recipe/6881815\n",
      "['칠리새우ㅣ쉬림프 박스 만들기', '2018-01-05', '[재료] 칵테일 새우 1컵(종이컵) 다진마늘 1스푼 버터 1조각 식용유 2스푼 [칠리소스] 케찹 2스푼 고추가루 1스푼 설탕 1스푼 간장 1스푼 식초 1스푼 물 약간', '냉동새우는 물에 넣고 해동시켜주세요새우꼬리부분은 취향에 따라 제거해주세요 !', '칠리 소스 재료들을 모두 넣고 섞어주세요', '팬에 식용유를 두르고 다진 마늘을 낮은 불에서 살짝 볶아주세요', '마늘이 살짝 익을 때쯤 해동된 새우를 넣고 후추로 살짝 뿌려주세요', '새우가 익어가면 소스를 넣고 소스와 새우가 함께 잘 버무려지게끔 물을 살짝 넣고 섞어주세요', '마무리로 버터를 한조각 넣고 섞어주세요', '밥을 준비해주세요', '밥 위에 칠리새우를 올려주시면 완성입니다 !']\n",
      "------------------------------------------------------------------\n",
      "https://www.10000recipe.com/recipe/6951564\n",
      "[\"간단하게 맛난 반찬 만들기 '베이컨 버섯볶음'\", '2021-01-20', '[재료] 베이컨 5~6줄 양파 1/2개 미니새송이버섯 7개 다진마늘 1t 굴소스 1t', '버섯과 양파를 잘라줍니다.', '올리브유를 두르고 양파와 다진마늘을 볶아줍니다.일반 식용유로 해도 상관없습니다~', '마늘향이 올라오면 베이컨을 넣어 볶아줍니다.', '베이컨들이 다 떨어지면 버섯을 넣고 내가 좋아하는 식감까지 볶아줍니다.', '굴소스를 넣어 줍니다! (채소의 양이 적다면 1/2스푼만 넣어주세요.)굴소스를 넣지 않아도 베이컨에 간이 되어 있어서 맛있답니다~', '그릇에 담아 맛있게 먹어줍니다ㅎㅎ']\n",
      "------------------------------------------------------------------\n",
      "https://www.10000recipe.com/recipe/6913952\n",
      "['목우촌 집반찬 간편요리 마늘쫑 소시지 볶음', '2019-06-14', '[재료] 프랑크소시지 1개 마늘쫑 1단 간장 2 올리고당 1 참기름 1 통깨', '프라임 꼬치구이 프랑크를 먹기좋은 크기로 썰어주세요.', '마늘쫑을 3~4cm 길이로 썰어주세요.', '펄펄 끓는물에 마늘쫑을 30초 데쳐주세요.', '소시지도 1분간 데쳐줍니다.', '후라이팬에 기름을 두르고 마늘쫑과 소시지를 넣고 볶아줍니다.', '간장2, 올리고당 1넣고 볶아줍니다', '마늘쫑이 어느정도 숨이 죽으면 참기름1, 통깨를 뿌리고 조금 더 볶아주세요.', '어른아이 모두 좋아하는 반찬~ 마늘쫑 소시지 볶음완성!']\n",
      "------------------------------------------------------------------\n",
      "https://www.10000recipe.com/recipe/6952286\n",
      "['손님 초대용으로도 좋은 유산슬느낌 청경채부추새우덮밥', '2021-01-29', '[재료] 청경채 4뿌리 부추 1줌 새우 12마리 버섯 1~2줌 양파 1/2개 다진마늘 1T 청양고추 2개 [양념] 식용유 3T 굴소스 1T 간장 1T 참기름 1T 소금 선택 후추 조금 [녹말물] 전분가루 1T 물 250ml', '요리를 시작하기전에 먼저 냉동새우는 해동을 위해 한번씻어서 채에 받쳐두고 후추를 조금 뿌려줘요!', '물 250ml(한컵)에 전분가루(전 감자전분썼어요!)녹말물도 먼저 만들어요!', '팬에 식용유를 두르고 다진마늘 1큰술과 양파 1/2개를 볶아요!', '양파가 조금 흐물해졌다 싶을때 해동시킨 새우를 넣어요!', '새우가 맛있게 붉으스름해질때까지 볶아줘요', '새우가 어느정도 익어갈때쯤 씻어놓은 청경채를 넣어줘요!', '청경채에 숨이 죽을때까지 20초정도 볶아주다가', '숨이 어느정도 죽으면 버섯과 굴소스 1T 간장1T를 넣고 휘리릭 볶아줍니다', '준비했던 녹말물을 다시 잘 풀어주고 넣어주세요!', '센불로 촤르르 볶은후 불을끄고 부추한줌과 참기름을 넣고 뒤적여주세요! 기호에따라 청양고추를 썰어주셔도 좋아요!', '밥위에 부어주면 완성!']\n",
      "------------------------------------------------------------------\n"
     ]
    }
   ],
   "source": [
    "csvfile = open('./볶음.csv', 'a', encoding='utf-8-sig', newline= '')\n",
    "csvwriter = csv.writer(csvfile)\n",
    "# 10개의 레시피만 크롤링 \n",
    "for i in all_receipe[:10]:\n",
    "    print(i)\n",
    "    r = requests.get(i)\n",
    "    soup = BeautifulSoup(r.text, 'html.parser')\n",
    "    temp = []\n",
    "    \n",
    "    # 레시피 명\n",
    "    try:\n",
    "        A = soup.findAll('div',attrs={'class':'view2_summary st3'})[0].get_text().strip().split('\\n')[0]\n",
    "        #print(A)\n",
    "        #print(\"------------------------------------------------------------------\")\n",
    "        temp.append(A)\n",
    "    except:\n",
    "        pass\n",
    "        print(\"레시피가 없음\")\n",
    "        \n",
    "    \n",
    "    # 레시피 등록 날짜\n",
    "    try:\n",
    "        date = soup.findAll('p',attrs={'class':'view_notice_date'})[0].get_text().strip().split(\" \")[2]\n",
    "        #print(date)\n",
    "        #print(\"------------------------------------------------------------------\")\n",
    "        #temp.append(date)\n",
    "    except:\n",
    "        print('날짜 없음')\n",
    "        pass\n",
    "\n",
    "        \n",
    "    \n",
    "    # 조회수\n",
    "    try:\n",
    "        count = soup.findAll('span',attrs={'class':'hit font_num'})[0].get_text()\n",
    "        #print(count)\n",
    "        #print(\"------------------------------------------------------------------\")\n",
    "        temp.append(date)\n",
    "    except:\n",
    "        pass\n",
    "    \n",
    "    # 재료\n",
    "    try:\n",
    "        A_list = soup.findAll('div',attrs={'class':'ready_ingre3'})[0].get_text().split()\n",
    "        mate = \" \".join(A_list)\n",
    "        #print(mate)\n",
    "        #print(\"------------------------------------------------------------------\")\n",
    "        temp.append(mate)\n",
    "    except:\n",
    "        print('재료없음')\n",
    "        pass\n",
    "     \n",
    "    try:\n",
    "        soup_1 = soup.findAll('div',attrs={'class':'view_step'})[0]\n",
    "    except:\n",
    "        #print(\"레시피 정보가 없음\")\n",
    "        pass\n",
    "        \n",
    "    # 요리 순서\n",
    "    try:\n",
    "        for j in range(0, len(soup.findAll('div',attrs={'class':'media-body'}))):\n",
    "            A = soup_1.findAll('div',attrs={'class':'media-body'})[j].get_text()\n",
    "            temp.append(A)\n",
    "            #print(A)\n",
    "            #print(\"--------------------------------------------------------------\")\n",
    "    except:\n",
    "        pass\n",
    "    \n",
    "    print(temp)\n",
    "    csvwriter.writerow(temp)\n",
    "    print(\"------------------------------------------------------------------\")"
   ]
  },
  {
   "cell_type": "code",
   "execution_count": null,
   "id": "0f192484",
   "metadata": {},
   "outputs": [],
   "source": []
  },
  {
   "cell_type": "code",
   "execution_count": null,
   "id": "2d2a7b99",
   "metadata": {},
   "outputs": [],
   "source": []
  }
 ],
 "metadata": {
  "kernelspec": {
   "display_name": "Python 3",
   "language": "python",
   "name": "python3"
  },
  "language_info": {
   "codemirror_mode": {
    "name": "ipython",
    "version": 3
   },
   "file_extension": ".py",
   "mimetype": "text/x-python",
   "name": "python",
   "nbconvert_exporter": "python",
   "pygments_lexer": "ipython3",
   "version": "3.8.8"
  }
 },
 "nbformat": 4,
 "nbformat_minor": 5
}
